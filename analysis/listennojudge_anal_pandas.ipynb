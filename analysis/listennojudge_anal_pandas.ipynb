{
  "cells": [
    {
      "cell_type": "markdown",
      "metadata": {
        "id": "view-in-github",
        "colab_type": "text"
      },
      "source": [
        "<a href=\"https://colab.research.google.com/github/milanoscookie/code/blob/master/analysis/listennojudge_anal_pandas.ipynb\" target=\"_parent\"><img src=\"https://colab.research.google.com/assets/colab-badge.svg\" alt=\"Open In Colab\"/></a>"
      ]
    },
    {
      "cell_type": "code",
      "execution_count": 4,
      "metadata": {
        "id": "cVlSOkqSkS0g"
      },
      "outputs": [],
      "source": [
        "import pandas as pd\n",
        "import numpy as np\n",
        "import polars as pl\n",
        "from scipy import signal, stats\n",
        "from plotly import express as plx\n",
        "import json\n",
        "import csv\n",
        "\n",
        "from sklearn import linear_model"
      ]
    },
    {
      "cell_type": "code",
      "execution_count": null,
      "metadata": {
        "id": "KqNQ6VoekS0i"
      },
      "outputs": [],
      "source": [
        "# !. ../secrets.sh && cd '../build' && ./scout_exe"
      ]
    },
    {
      "cell_type": "code",
      "execution_count": 5,
      "metadata": {
        "id": "i0p4yHzikS0i"
      },
      "outputs": [],
      "source": [
        "COINBASE_TICKERS = '../data/coinbase_tickers.txt'\n",
        "COINBASE_BOOKS = '../data/coinbase_books.txt'\n",
        "\n",
        "KRAKEN_TICKERS = '../data/kraken_tickers.txt'\n",
        "KRAKEN_BOOKS = '../data/kraken_books.txt'\n",
        "\n",
        "\n",
        "DEPTH = 100\n",
        "SCALE = int(1e8)"
      ]
    },
    {
      "cell_type": "markdown",
      "metadata": {
        "id": "0uksEVPokS0j"
      },
      "source": [
        "Explore the lag within the books as they update much faster than tickers do"
      ]
    },
    {
      "cell_type": "code",
      "execution_count": 7,
      "metadata": {
        "id": "H-E4jwGskS0k",
        "outputId": "a4adeb2b-3a15-42d4-a2d2-f3659711b3f4",
        "colab": {
          "base_uri": "https://localhost:8080/",
          "height": 373
        }
      },
      "outputs": [
        {
          "output_type": "error",
          "ename": "FileNotFoundError",
          "evalue": "[Errno 2] No such file or directory: '../data/coinbase_books.txt'",
          "traceback": [
            "\u001b[0;31m---------------------------------------------------------------------------\u001b[0m",
            "\u001b[0;31mFileNotFoundError\u001b[0m                         Traceback (most recent call last)",
            "\u001b[0;32m<ipython-input-7-7a21bb306aa9>\u001b[0m in \u001b[0;36m<cell line: 3>\u001b[0;34m()\u001b[0m\n\u001b[1;32m      1\u001b[0m \u001b[0;31m# coinbase\u001b[0m\u001b[0;34m\u001b[0m\u001b[0;34m\u001b[0m\u001b[0m\n\u001b[1;32m      2\u001b[0m \u001b[0;34m\u001b[0m\u001b[0m\n\u001b[0;32m----> 3\u001b[0;31m \u001b[0mcb_book\u001b[0m \u001b[0;34m=\u001b[0m \u001b[0mpd\u001b[0m\u001b[0;34m.\u001b[0m\u001b[0mread_csv\u001b[0m\u001b[0;34m(\u001b[0m\u001b[0mCOINBASE_BOOKS\u001b[0m\u001b[0;34m,\u001b[0m \u001b[0mheader\u001b[0m\u001b[0;34m=\u001b[0m\u001b[0;32mNone\u001b[0m\u001b[0;34m)\u001b[0m\u001b[0;34m\u001b[0m\u001b[0;34m\u001b[0m\u001b[0m\n\u001b[0m\u001b[1;32m      4\u001b[0m \u001b[0mcb_book\u001b[0m\u001b[0;34m.\u001b[0m\u001b[0mcolumns\u001b[0m \u001b[0;34m=\u001b[0m \u001b[0;34m[\u001b[0m\u001b[0;34m'ticker'\u001b[0m\u001b[0;34m,\u001b[0m \u001b[0;34m'timestamp'\u001b[0m\u001b[0;34m,\u001b[0m \u001b[0;34m'type'\u001b[0m\u001b[0;34m,\u001b[0m \u001b[0;34m'price'\u001b[0m\u001b[0;34m,\u001b[0m \u001b[0;34m'quantity'\u001b[0m\u001b[0;34m]\u001b[0m\u001b[0;34m\u001b[0m\u001b[0;34m\u001b[0m\u001b[0m\n\u001b[1;32m      5\u001b[0m \u001b[0mcb_bids\u001b[0m \u001b[0;34m=\u001b[0m \u001b[0mcb_book\u001b[0m\u001b[0;34m[\u001b[0m\u001b[0mcb_book\u001b[0m\u001b[0;34m.\u001b[0m\u001b[0mtype\u001b[0m \u001b[0;34m==\u001b[0m \u001b[0;34m'bid'\u001b[0m\u001b[0;34m]\u001b[0m\u001b[0;34m.\u001b[0m\u001b[0mdrop\u001b[0m\u001b[0;34m(\u001b[0m\u001b[0;34m'type'\u001b[0m\u001b[0;34m,\u001b[0m\u001b[0maxis\u001b[0m\u001b[0;34m=\u001b[0m\u001b[0;36m1\u001b[0m\u001b[0;34m)\u001b[0m\u001b[0;34m\u001b[0m\u001b[0;34m\u001b[0m\u001b[0m\n",
            "\u001b[0;32m/usr/local/lib/python3.10/dist-packages/pandas/io/parsers/readers.py\u001b[0m in \u001b[0;36mread_csv\u001b[0;34m(filepath_or_buffer, sep, delimiter, header, names, index_col, usecols, dtype, engine, converters, true_values, false_values, skipinitialspace, skiprows, skipfooter, nrows, na_values, keep_default_na, na_filter, verbose, skip_blank_lines, parse_dates, infer_datetime_format, keep_date_col, date_parser, date_format, dayfirst, cache_dates, iterator, chunksize, compression, thousands, decimal, lineterminator, quotechar, quoting, doublequote, escapechar, comment, encoding, encoding_errors, dialect, on_bad_lines, delim_whitespace, low_memory, memory_map, float_precision, storage_options, dtype_backend)\u001b[0m\n\u001b[1;32m   1024\u001b[0m     \u001b[0mkwds\u001b[0m\u001b[0;34m.\u001b[0m\u001b[0mupdate\u001b[0m\u001b[0;34m(\u001b[0m\u001b[0mkwds_defaults\u001b[0m\u001b[0;34m)\u001b[0m\u001b[0;34m\u001b[0m\u001b[0;34m\u001b[0m\u001b[0m\n\u001b[1;32m   1025\u001b[0m \u001b[0;34m\u001b[0m\u001b[0m\n\u001b[0;32m-> 1026\u001b[0;31m     \u001b[0;32mreturn\u001b[0m \u001b[0m_read\u001b[0m\u001b[0;34m(\u001b[0m\u001b[0mfilepath_or_buffer\u001b[0m\u001b[0;34m,\u001b[0m \u001b[0mkwds\u001b[0m\u001b[0;34m)\u001b[0m\u001b[0;34m\u001b[0m\u001b[0;34m\u001b[0m\u001b[0m\n\u001b[0m\u001b[1;32m   1027\u001b[0m \u001b[0;34m\u001b[0m\u001b[0m\n\u001b[1;32m   1028\u001b[0m \u001b[0;34m\u001b[0m\u001b[0m\n",
            "\u001b[0;32m/usr/local/lib/python3.10/dist-packages/pandas/io/parsers/readers.py\u001b[0m in \u001b[0;36m_read\u001b[0;34m(filepath_or_buffer, kwds)\u001b[0m\n\u001b[1;32m    618\u001b[0m \u001b[0;34m\u001b[0m\u001b[0m\n\u001b[1;32m    619\u001b[0m     \u001b[0;31m# Create the parser.\u001b[0m\u001b[0;34m\u001b[0m\u001b[0;34m\u001b[0m\u001b[0m\n\u001b[0;32m--> 620\u001b[0;31m     \u001b[0mparser\u001b[0m \u001b[0;34m=\u001b[0m \u001b[0mTextFileReader\u001b[0m\u001b[0;34m(\u001b[0m\u001b[0mfilepath_or_buffer\u001b[0m\u001b[0;34m,\u001b[0m \u001b[0;34m**\u001b[0m\u001b[0mkwds\u001b[0m\u001b[0;34m)\u001b[0m\u001b[0;34m\u001b[0m\u001b[0;34m\u001b[0m\u001b[0m\n\u001b[0m\u001b[1;32m    621\u001b[0m \u001b[0;34m\u001b[0m\u001b[0m\n\u001b[1;32m    622\u001b[0m     \u001b[0;32mif\u001b[0m \u001b[0mchunksize\u001b[0m \u001b[0;32mor\u001b[0m \u001b[0miterator\u001b[0m\u001b[0;34m:\u001b[0m\u001b[0;34m\u001b[0m\u001b[0;34m\u001b[0m\u001b[0m\n",
            "\u001b[0;32m/usr/local/lib/python3.10/dist-packages/pandas/io/parsers/readers.py\u001b[0m in \u001b[0;36m__init__\u001b[0;34m(self, f, engine, **kwds)\u001b[0m\n\u001b[1;32m   1618\u001b[0m \u001b[0;34m\u001b[0m\u001b[0m\n\u001b[1;32m   1619\u001b[0m         \u001b[0mself\u001b[0m\u001b[0;34m.\u001b[0m\u001b[0mhandles\u001b[0m\u001b[0;34m:\u001b[0m \u001b[0mIOHandles\u001b[0m \u001b[0;34m|\u001b[0m \u001b[0;32mNone\u001b[0m \u001b[0;34m=\u001b[0m \u001b[0;32mNone\u001b[0m\u001b[0;34m\u001b[0m\u001b[0;34m\u001b[0m\u001b[0m\n\u001b[0;32m-> 1620\u001b[0;31m         \u001b[0mself\u001b[0m\u001b[0;34m.\u001b[0m\u001b[0m_engine\u001b[0m \u001b[0;34m=\u001b[0m \u001b[0mself\u001b[0m\u001b[0;34m.\u001b[0m\u001b[0m_make_engine\u001b[0m\u001b[0;34m(\u001b[0m\u001b[0mf\u001b[0m\u001b[0;34m,\u001b[0m \u001b[0mself\u001b[0m\u001b[0;34m.\u001b[0m\u001b[0mengine\u001b[0m\u001b[0;34m)\u001b[0m\u001b[0;34m\u001b[0m\u001b[0;34m\u001b[0m\u001b[0m\n\u001b[0m\u001b[1;32m   1621\u001b[0m \u001b[0;34m\u001b[0m\u001b[0m\n\u001b[1;32m   1622\u001b[0m     \u001b[0;32mdef\u001b[0m \u001b[0mclose\u001b[0m\u001b[0;34m(\u001b[0m\u001b[0mself\u001b[0m\u001b[0;34m)\u001b[0m \u001b[0;34m->\u001b[0m \u001b[0;32mNone\u001b[0m\u001b[0;34m:\u001b[0m\u001b[0;34m\u001b[0m\u001b[0;34m\u001b[0m\u001b[0m\n",
            "\u001b[0;32m/usr/local/lib/python3.10/dist-packages/pandas/io/parsers/readers.py\u001b[0m in \u001b[0;36m_make_engine\u001b[0;34m(self, f, engine)\u001b[0m\n\u001b[1;32m   1878\u001b[0m                 \u001b[0;32mif\u001b[0m \u001b[0;34m\"b\"\u001b[0m \u001b[0;32mnot\u001b[0m \u001b[0;32min\u001b[0m \u001b[0mmode\u001b[0m\u001b[0;34m:\u001b[0m\u001b[0;34m\u001b[0m\u001b[0;34m\u001b[0m\u001b[0m\n\u001b[1;32m   1879\u001b[0m                     \u001b[0mmode\u001b[0m \u001b[0;34m+=\u001b[0m \u001b[0;34m\"b\"\u001b[0m\u001b[0;34m\u001b[0m\u001b[0;34m\u001b[0m\u001b[0m\n\u001b[0;32m-> 1880\u001b[0;31m             self.handles = get_handle(\n\u001b[0m\u001b[1;32m   1881\u001b[0m                 \u001b[0mf\u001b[0m\u001b[0;34m,\u001b[0m\u001b[0;34m\u001b[0m\u001b[0;34m\u001b[0m\u001b[0m\n\u001b[1;32m   1882\u001b[0m                 \u001b[0mmode\u001b[0m\u001b[0;34m,\u001b[0m\u001b[0;34m\u001b[0m\u001b[0;34m\u001b[0m\u001b[0m\n",
            "\u001b[0;32m/usr/local/lib/python3.10/dist-packages/pandas/io/common.py\u001b[0m in \u001b[0;36mget_handle\u001b[0;34m(path_or_buf, mode, encoding, compression, memory_map, is_text, errors, storage_options)\u001b[0m\n\u001b[1;32m    871\u001b[0m         \u001b[0;32mif\u001b[0m \u001b[0mioargs\u001b[0m\u001b[0;34m.\u001b[0m\u001b[0mencoding\u001b[0m \u001b[0;32mand\u001b[0m \u001b[0;34m\"b\"\u001b[0m \u001b[0;32mnot\u001b[0m \u001b[0;32min\u001b[0m \u001b[0mioargs\u001b[0m\u001b[0;34m.\u001b[0m\u001b[0mmode\u001b[0m\u001b[0;34m:\u001b[0m\u001b[0;34m\u001b[0m\u001b[0;34m\u001b[0m\u001b[0m\n\u001b[1;32m    872\u001b[0m             \u001b[0;31m# Encoding\u001b[0m\u001b[0;34m\u001b[0m\u001b[0;34m\u001b[0m\u001b[0m\n\u001b[0;32m--> 873\u001b[0;31m             handle = open(\n\u001b[0m\u001b[1;32m    874\u001b[0m                 \u001b[0mhandle\u001b[0m\u001b[0;34m,\u001b[0m\u001b[0;34m\u001b[0m\u001b[0;34m\u001b[0m\u001b[0m\n\u001b[1;32m    875\u001b[0m                 \u001b[0mioargs\u001b[0m\u001b[0;34m.\u001b[0m\u001b[0mmode\u001b[0m\u001b[0;34m,\u001b[0m\u001b[0;34m\u001b[0m\u001b[0;34m\u001b[0m\u001b[0m\n",
            "\u001b[0;31mFileNotFoundError\u001b[0m: [Errno 2] No such file or directory: '../data/coinbase_books.txt'"
          ]
        }
      ],
      "source": [
        "# coinbase\n",
        "\n",
        "cb_book = pd.read_csv(COINBASE_BOOKS, header=None)\n",
        "cb_book.columns = ['ticker', 'timestamp', 'type', 'price', 'quantity']\n",
        "cb_bids = cb_book[cb_book.type == 'bid'].drop('type',axis=1)\n",
        "cb_asks = cb_book[cb_book.type == 'offer'].drop('type',axis=1)\n",
        "\n",
        "# kraken\n",
        "\n",
        "kk_book = pd.read_csv(KRAKEN_BOOKS, header=None)\n",
        "kk_book.columns = ['ticker', 'timestamp', 'type', 'price', 'quantity']\n",
        "kk_book = kk_book[kk_book['timestamp'] != 0]\n",
        "kk_bids = kk_book[kk_book.type == 'bid'].drop('type',axis=1)\n",
        "kk_asks = kk_book[kk_book.type == 'ask'].drop('type',axis=1)\n",
        "\n",
        "\n",
        "print(\"size of cb_bids\", len(cb_bids))\n",
        "print(\"size of cb_asks\", len(cb_asks))\n",
        "print(\"size of kk_bids\", len(kk_bids))\n",
        "print(\"size of kk_asks\", len(kk_asks))\n",
        "\n",
        "signal_ind = {'cb_bids': 0, 'cb_asks': 1, 'kk_bids': 2, 'kk_asks': 3}\n",
        "books = [cb_bids, cb_asks, kk_bids, kk_asks]"
      ]
    },
    {
      "cell_type": "code",
      "execution_count": null,
      "metadata": {
        "id": "J38w7-5bkS0k"
      },
      "outputs": [],
      "source": [
        "# use to test code so it doesn't take forver to run\n",
        "for sig,ii in signal_ind.items():\n",
        "    books[ii] = books[ii].iloc[0:2000,:]\n",
        "books"
      ]
    },
    {
      "cell_type": "code",
      "execution_count": null,
      "metadata": {
        "id": "1wbR6xZ_kS0k"
      },
      "outputs": [],
      "source": [
        "best_signal = [pd.DataFrame(columns=['timestamp', 'price', 'quantity']) for x in signal_ind.keys()]\n",
        "wavg_signal = [pd.DataFrame(columns=['timestamp', 'price', 'total_volume']) for x in signal_ind.keys()]\n",
        "price_signal = [pd.DataFrame(columns=['timestamp', 'std', 'median', 'spread']) for x in signal_ind.keys()]\n",
        "\n",
        "for sig, ii in signal_ind.items():\n",
        "    is_bid = ii % 2 == 0\n",
        "    allts = np.sort(books[ii]['timestamp'].unique())\n",
        "    firstts = allts[0]\n",
        "    at_firstts = books[ii]['timestamp'] == firstts\n",
        "\n",
        "    curbook = books[ii][at_firstts].copy()\n",
        "    # complete_book = pd.DataFrame()\n",
        "    # this can probs easily be solved by using a groupby, im so dumb\n",
        "    for ts in allts:\n",
        "        at_ts = books[ii]['timestamp'] == ts\n",
        "        sig_at_ts = books[ii][at_ts]\n",
        "\n",
        "        merged = pd.merge(sig_at_ts[['price', 'quantity']], curbook, on='price', how='left', suffixes=('_old', ''))\n",
        "        merged['quantity']=merged['quantity'].fillna(merged['quantity_old'])\n",
        "        curbook = merged.drop('quantity_old', axis=1)\n",
        "        curbook['timestamp'] = ts\n",
        "        curbook = curbook[curbook['quantity'] != 0]\n",
        "        curbook = curbook.sort_values('price', ascending=(not is_bid))\n",
        "\n",
        "        # complete_book = pd.concat([complete_book,curbook.iloc[:DEPTH]])\n",
        "\n",
        "        if(not curbook['price'].empty):\n",
        "            minbook = curbook.iloc[0:DEPTH, :]\n",
        "            wavg_signal[ii].loc[len(wavg_signal[ii])] = [ts,\n",
        "                                                         (minbook['price'] * minbook['quantity']).sum() / minbook['quantity'].sum(),\n",
        "                                                         minbook['quantity'].sum()]\n",
        "            best_signal[ii].loc[len(best_signal[ii])] = [ts, curbook['price'].iloc[0], curbook['quantity'].iloc[0]]\n",
        "            price_signal[ii].loc[len(price_signal[ii])] = [ts,\n",
        "                                                           np.std(minbook['price']),\n",
        "                                                           minbook['price'].iloc[int(len(minbook['price'])/2)],\n",
        "                                                           np.abs(np.min(minbook['price']) - np.max(minbook['price']))]\n",
        "\n",
        "\n",
        "    wavg_signal[ii] = wavg_signal[ii][wavg_signal[ii]['price'] > 0]\n",
        "# best_signal\n",
        "# wavg_signal\n",
        "# price_signal"
      ]
    },
    {
      "cell_type": "code",
      "execution_count": null,
      "metadata": {
        "id": "bR1Gnbl7kS0l"
      },
      "outputs": [],
      "source": [
        "def ffill_df(dfs, sigkeys):\n",
        "    ffilled_dfs = []\n",
        "    for sig,df in zip(sigkeys,dfs):\n",
        "        df.index = pd.to_datetime(df['timestamp'], unit='ms')\n",
        "        df = df.drop(['timestamp'], axis=1)\n",
        "        df.index.name = 'date'\n",
        "        df = df.resample('1ms').ffill()\n",
        "        ffilled_dfs.append(df)\n",
        "\n",
        "\n",
        "    i = 0\n",
        "    ffilled = ffilled_dfs[i].rename(columns=lambda col: col + \"_\" + sigkeys[i] if col != \"date\" else col)\n",
        "    i += 1\n",
        "    while i < len(sigkeys):\n",
        "        current_df = ffilled_dfs[i].rename(columns=lambda col: col + \"_\" + sigkeys[i] if col != \"date\" else col)\n",
        "        ffilled = pd.merge(\n",
        "            ffilled,\n",
        "            current_df,\n",
        "            on='date',\n",
        "            how='inner'\n",
        "        )\n",
        "        i += 1\n",
        "\n",
        "    ffilled['timestamp'] = ffilled.index.view('int64') / 10**9\n",
        "    ffilled['timestamp'] = ffilled['timestamp'] - np.min(ffilled['timestamp'])\n",
        "    return ffilled\n",
        "\n",
        "\n",
        "best_signal_ffilled = ffill_df(best_signal, list(signal_ind.keys()))\n",
        "wavg_signal_ffilled = ffill_df(wavg_signal, list(signal_ind.keys()))\n",
        "price_signal_ffilled = ffill_df(price_signal, list(signal_ind.keys()))\n",
        "\n",
        "best_signal_ffilled.to_csv('best_signal_ffilled.csv')\n",
        "wavg_signal_ffilled.to_csv('wavg_signal_ffilled.csv')\n",
        "price_signal_ffilled.to_csv('price_signal_ffilled.csv')"
      ]
    },
    {
      "cell_type": "code",
      "execution_count": null,
      "metadata": {
        "id": "7ydScwU5kS0l"
      },
      "outputs": [],
      "source": [
        "best_signal_ffilled = pd.read_csv('best_signal_ffilled.csv')\n",
        "wavg_signal_ffilled = pd.read_csv('wavg_signal_ffilled.csv')\n",
        "price_signal_ffilled = pd.read_csv('price_signal_ffilled.csv')"
      ]
    },
    {
      "cell_type": "code",
      "execution_count": null,
      "metadata": {
        "id": "TUo_fdCAkS0m"
      },
      "outputs": [],
      "source": [
        "## TODO: EVERYTHING ABOVE THIS NEEDS TO BE OPTIMIZED CUZ RN IT CAN'T RUN!!!"
      ]
    },
    {
      "cell_type": "code",
      "source": [
        "from google.colab import drive\n",
        "drive.mount('/content/drive')\n",
        "\n",
        "best_signal_ffilled = pd.read_csv('drive/MyDrive/signals forward filled/best_signal_ffilled.csv')\n",
        "wavg_signal_ffilled = pd.read_csv('drive/MyDrive/signals forward filled/wavg_signal_ffilled.csv')\n",
        "price_signal_ffilled = pd.read_csv('drive/MyDrive/signals forward filled/price_signal_ffilled.csv')"
      ],
      "metadata": {
        "id": "yVQKoJChl3fJ",
        "outputId": "15bd019d-d52e-4469-9ea7-85953f8058d0",
        "colab": {
          "base_uri": "https://localhost:8080/"
        }
      },
      "execution_count": 6,
      "outputs": [
        {
          "output_type": "stream",
          "name": "stdout",
          "text": [
            "Drive already mounted at /content/drive; to attempt to forcibly remount, call drive.mount(\"/content/drive\", force_remount=True).\n"
          ]
        }
      ]
    },
    {
      "cell_type": "markdown",
      "metadata": {
        "id": "QMHUZzBnkS0m"
      },
      "source": [
        "# TODO: indicators\n",
        "\n",
        " best-ask to best-bid price spread\n",
        " ask-bid imbalance (ask_vol - bid_vol) / (ask_vol + bid_vol)\n",
        "\n",
        "##### for MA, do for both best (best_signal_ffilled) and weighted avg (wavg_signal_ffileed)\n",
        "- MA (3 ms)\n",
        "- MA (10 ms)\n",
        "- MA (100 ms)\n",
        "- MA (1000 ms)\n",
        "- EMA (alpha = 0.01)\n",
        "- EMA (alpha = 0.05)\n",
        "- EMA (alpha = 0.10)\n",
        "- EMA (alpha = 0.33)\n",
        "- EMA (alpha = 0.67)\n",
        "- EMA (alpha = 0.90)\n",
        "\n",
        "- kalman filter\n",
        "\n",
        "*also I have a few ideas for slope interpolation of weighted avg to patch in gaps in noisy best_price, but we will ignore for now*"
      ]
    },
    {
      "cell_type": "markdown",
      "metadata": {
        "id": "Jus56M6AkS0m"
      },
      "source": [
        "# Model pseudo code\n",
        "\n",
        "next, code up logistic regression to tell us if we should trade or not\n",
        "`LOGISTIC(indicators) => y(t)`\n",
        "or `LINEAR(indicators) => x(t), calculate z scores => y(t)`\n",
        "\n",
        "    x(T) = statistically segnificant signals at T timestep(forward filled)\n",
        "    x(T) is statsitically segniciant at T if X(T) > MEAN + Z*STD  \n",
        "    where MEAN & STD come from X(T-1), X(T-2), ... X(T-N)\n",
        "\n",
        "Y = `COINBASE_BEST_ASK(T+(LAG))` < the `KRAKEN_BEST_BID within (T+(LAG), T+(LAG)+(HOLDTIME)]`\n",
        "\n",
        "then optimize `HOLDTIME` and `Z` & `N` with the objective function (i'm thinking gridsearch to keep it simple)\n",
        "\n",
        "    OBJ = 0\n",
        "    WE_TRADE = Y(T) >= 0.5\n",
        "    if(WE_TRADE):\n",
        "      check if ask price @ T+LAG > bid price T1 @ T+LAG to T+LAG+HOLDTIME:\n",
        "          if so, (OBJ += (ASK_PRICE(T+LAG) - BID_PRICE(T+LAG+T1))\n",
        "          if not, (OBJ += ASK_PRICE(T+LAG) - BID_PRICE(T+LAG+T1))\n",
        "\n",
        "    MAX OBJ W.R.T `HOLDTIME` and `Z` & `N`\n",
        "\n",
        "\n"
      ]
    },
    {
      "cell_type": "code",
      "execution_count": 36,
      "metadata": {
        "id": "8Y7k8nKQkS0m",
        "outputId": "01173502-f1b4-4b18-829a-8d6f8ab5ef01",
        "colab": {
          "base_uri": "https://localhost:8080/",
          "height": 458
        }
      },
      "outputs": [
        {
          "output_type": "execute_result",
          "data": {
            "text/plain": [
              "1781        4.955566e+07\n",
              "1782        4.955566e+07\n",
              "1783        4.955566e+07\n",
              "1784        4.955566e+07\n",
              "1785        4.955566e+07\n",
              "                ...     \n",
              "10796176    4.846109e+07\n",
              "10796177    4.846109e+07\n",
              "10796178    4.846109e+07\n",
              "10796179    4.846109e+07\n",
              "10796180    4.846109e+07\n",
              "Name: price_cb_asks, Length: 1756056, dtype: float64"
            ],
            "text/html": [
              "<div>\n",
              "<style scoped>\n",
              "    .dataframe tbody tr th:only-of-type {\n",
              "        vertical-align: middle;\n",
              "    }\n",
              "\n",
              "    .dataframe tbody tr th {\n",
              "        vertical-align: top;\n",
              "    }\n",
              "\n",
              "    .dataframe thead th {\n",
              "        text-align: right;\n",
              "    }\n",
              "</style>\n",
              "<table border=\"1\" class=\"dataframe\">\n",
              "  <thead>\n",
              "    <tr style=\"text-align: right;\">\n",
              "      <th></th>\n",
              "      <th>price_cb_asks</th>\n",
              "    </tr>\n",
              "  </thead>\n",
              "  <tbody>\n",
              "    <tr>\n",
              "      <th>1781</th>\n",
              "      <td>4.955566e+07</td>\n",
              "    </tr>\n",
              "    <tr>\n",
              "      <th>1782</th>\n",
              "      <td>4.955566e+07</td>\n",
              "    </tr>\n",
              "    <tr>\n",
              "      <th>1783</th>\n",
              "      <td>4.955566e+07</td>\n",
              "    </tr>\n",
              "    <tr>\n",
              "      <th>1784</th>\n",
              "      <td>4.955566e+07</td>\n",
              "    </tr>\n",
              "    <tr>\n",
              "      <th>1785</th>\n",
              "      <td>4.955566e+07</td>\n",
              "    </tr>\n",
              "    <tr>\n",
              "      <th>...</th>\n",
              "      <td>...</td>\n",
              "    </tr>\n",
              "    <tr>\n",
              "      <th>10796176</th>\n",
              "      <td>4.846109e+07</td>\n",
              "    </tr>\n",
              "    <tr>\n",
              "      <th>10796177</th>\n",
              "      <td>4.846109e+07</td>\n",
              "    </tr>\n",
              "    <tr>\n",
              "      <th>10796178</th>\n",
              "      <td>4.846109e+07</td>\n",
              "    </tr>\n",
              "    <tr>\n",
              "      <th>10796179</th>\n",
              "      <td>4.846109e+07</td>\n",
              "    </tr>\n",
              "    <tr>\n",
              "      <th>10796180</th>\n",
              "      <td>4.846109e+07</td>\n",
              "    </tr>\n",
              "  </tbody>\n",
              "</table>\n",
              "<p>1756056 rows × 1 columns</p>\n",
              "</div><br><label><b>dtype:</b> float64</label>"
            ]
          },
          "metadata": {},
          "execution_count": 36
        }
      ],
      "source": [
        "# ID-ing signiciant signals, ideally use logistical regression for this part\n",
        "window_size = 1000  # law of large numbers, not enough; make it like 1 s so like 1000\n",
        "# TODO, not price, its like cb_ask_price\n",
        "X1 = best_signal_ffilled['price_cb_asks']\n",
        "\n",
        "mu = X1.rolling(window_size).mean().dropna()\n",
        "sigma = X1.rolling(window_size).std().dropna()\n",
        "z_th = 1\n",
        "zscores = (X1 - mu)/sigma\n",
        "zscores = zscores\n",
        "\n",
        "sig = zscores > z_th # peaks\n",
        "peaks = wavg_signal_ffilled['price_cb_asks'][sig]\n",
        "\n",
        "del window_size, X1, mu, sigma, z_th, zscores, sig\n",
        "\n",
        "peaks"
      ]
    },
    {
      "cell_type": "code",
      "execution_count": 40,
      "metadata": {
        "id": "cRyv162akS0n",
        "outputId": "ec41f343-c381-44a3-d305-08a571523818",
        "colab": {
          "base_uri": "https://localhost:8080/",
          "height": 463
        }
      },
      "outputs": [
        {
          "output_type": "stream",
          "name": "stderr",
          "text": [
            "/usr/local/lib/python3.10/dist-packages/pandas/core/series.py:1031: RuntimeWarning: invalid value encountered in cast\n",
            "  arr = np.asarray(values, dtype=dtype)\n"
          ]
        },
        {
          "output_type": "error",
          "ename": "IndexError",
          "evalue": "positional indexers are out-of-bounds",
          "traceback": [
            "\u001b[0;31m---------------------------------------------------------------------------\u001b[0m",
            "\u001b[0;31mIndexError\u001b[0m                                Traceback (most recent call last)",
            "\u001b[0;32m/usr/local/lib/python3.10/dist-packages/pandas/core/indexing.py\u001b[0m in \u001b[0;36m_get_list_axis\u001b[0;34m(self, key, axis)\u001b[0m\n\u001b[1;32m   1713\u001b[0m         \u001b[0;32mtry\u001b[0m\u001b[0;34m:\u001b[0m\u001b[0;34m\u001b[0m\u001b[0;34m\u001b[0m\u001b[0m\n\u001b[0;32m-> 1714\u001b[0;31m             \u001b[0;32mreturn\u001b[0m \u001b[0mself\u001b[0m\u001b[0;34m.\u001b[0m\u001b[0mobj\u001b[0m\u001b[0;34m.\u001b[0m\u001b[0m_take_with_is_copy\u001b[0m\u001b[0;34m(\u001b[0m\u001b[0mkey\u001b[0m\u001b[0;34m,\u001b[0m \u001b[0maxis\u001b[0m\u001b[0;34m=\u001b[0m\u001b[0maxis\u001b[0m\u001b[0;34m)\u001b[0m\u001b[0;34m\u001b[0m\u001b[0;34m\u001b[0m\u001b[0m\n\u001b[0m\u001b[1;32m   1715\u001b[0m         \u001b[0;32mexcept\u001b[0m \u001b[0mIndexError\u001b[0m \u001b[0;32mas\u001b[0m \u001b[0merr\u001b[0m\u001b[0;34m:\u001b[0m\u001b[0;34m\u001b[0m\u001b[0;34m\u001b[0m\u001b[0m\n",
            "\u001b[0;32m/usr/local/lib/python3.10/dist-packages/pandas/core/generic.py\u001b[0m in \u001b[0;36m_take_with_is_copy\u001b[0;34m(self, indices, axis)\u001b[0m\n\u001b[1;32m   4152\u001b[0m         \"\"\"\n\u001b[0;32m-> 4153\u001b[0;31m         \u001b[0mresult\u001b[0m \u001b[0;34m=\u001b[0m \u001b[0mself\u001b[0m\u001b[0;34m.\u001b[0m\u001b[0mtake\u001b[0m\u001b[0;34m(\u001b[0m\u001b[0mindices\u001b[0m\u001b[0;34m=\u001b[0m\u001b[0mindices\u001b[0m\u001b[0;34m,\u001b[0m \u001b[0maxis\u001b[0m\u001b[0;34m=\u001b[0m\u001b[0maxis\u001b[0m\u001b[0;34m)\u001b[0m\u001b[0;34m\u001b[0m\u001b[0;34m\u001b[0m\u001b[0m\n\u001b[0m\u001b[1;32m   4154\u001b[0m         \u001b[0;31m# Maybe set copy if we didn't actually change the index.\u001b[0m\u001b[0;34m\u001b[0m\u001b[0;34m\u001b[0m\u001b[0m\n",
            "\u001b[0;32m/usr/local/lib/python3.10/dist-packages/pandas/core/generic.py\u001b[0m in \u001b[0;36mtake\u001b[0;34m(self, indices, axis, **kwargs)\u001b[0m\n\u001b[1;32m   4132\u001b[0m \u001b[0;34m\u001b[0m\u001b[0m\n\u001b[0;32m-> 4133\u001b[0;31m         new_data = self._mgr.take(\n\u001b[0m\u001b[1;32m   4134\u001b[0m             \u001b[0mindices\u001b[0m\u001b[0;34m,\u001b[0m\u001b[0;34m\u001b[0m\u001b[0;34m\u001b[0m\u001b[0m\n",
            "\u001b[0;32m/usr/local/lib/python3.10/dist-packages/pandas/core/internals/managers.py\u001b[0m in \u001b[0;36mtake\u001b[0;34m(self, indexer, axis, verify)\u001b[0m\n\u001b[1;32m    890\u001b[0m         \u001b[0mn\u001b[0m \u001b[0;34m=\u001b[0m \u001b[0mself\u001b[0m\u001b[0;34m.\u001b[0m\u001b[0mshape\u001b[0m\u001b[0;34m[\u001b[0m\u001b[0maxis\u001b[0m\u001b[0;34m]\u001b[0m\u001b[0;34m\u001b[0m\u001b[0;34m\u001b[0m\u001b[0m\n\u001b[0;32m--> 891\u001b[0;31m         \u001b[0mindexer\u001b[0m \u001b[0;34m=\u001b[0m \u001b[0mmaybe_convert_indices\u001b[0m\u001b[0;34m(\u001b[0m\u001b[0mindexer\u001b[0m\u001b[0;34m,\u001b[0m \u001b[0mn\u001b[0m\u001b[0;34m,\u001b[0m \u001b[0mverify\u001b[0m\u001b[0;34m=\u001b[0m\u001b[0mverify\u001b[0m\u001b[0;34m)\u001b[0m\u001b[0;34m\u001b[0m\u001b[0;34m\u001b[0m\u001b[0m\n\u001b[0m\u001b[1;32m    892\u001b[0m \u001b[0;34m\u001b[0m\u001b[0m\n",
            "\u001b[0;32m/usr/local/lib/python3.10/dist-packages/pandas/core/indexers/utils.py\u001b[0m in \u001b[0;36mmaybe_convert_indices\u001b[0;34m(indices, n, verify)\u001b[0m\n\u001b[1;32m    281\u001b[0m         \u001b[0;32mif\u001b[0m \u001b[0mmask\u001b[0m\u001b[0;34m.\u001b[0m\u001b[0many\u001b[0m\u001b[0;34m(\u001b[0m\u001b[0;34m)\u001b[0m\u001b[0;34m:\u001b[0m\u001b[0;34m\u001b[0m\u001b[0;34m\u001b[0m\u001b[0m\n\u001b[0;32m--> 282\u001b[0;31m             \u001b[0;32mraise\u001b[0m \u001b[0mIndexError\u001b[0m\u001b[0;34m(\u001b[0m\u001b[0;34m\"indices are out-of-bounds\"\u001b[0m\u001b[0;34m)\u001b[0m\u001b[0;34m\u001b[0m\u001b[0;34m\u001b[0m\u001b[0m\n\u001b[0m\u001b[1;32m    283\u001b[0m     \u001b[0;32mreturn\u001b[0m \u001b[0mindices\u001b[0m\u001b[0;34m\u001b[0m\u001b[0;34m\u001b[0m\u001b[0m\n",
            "\u001b[0;31mIndexError\u001b[0m: indices are out-of-bounds",
            "\nThe above exception was the direct cause of the following exception:\n",
            "\u001b[0;31mIndexError\u001b[0m                                Traceback (most recent call last)",
            "\u001b[0;32m<ipython-input-40-9a36cd1a6a68>\u001b[0m in \u001b[0;36m<cell line: 18>\u001b[0;34m()\u001b[0m\n\u001b[1;32m     16\u001b[0m \u001b[0mfirst_high_ind\u001b[0m \u001b[0;34m=\u001b[0m \u001b[0;34m(\u001b[0m\u001b[0mbest_signal_ffilled\u001b[0m\u001b[0;34m[\u001b[0m\u001b[0;34m'price_kk_asks'\u001b[0m\u001b[0;34m]\u001b[0m \u001b[0;34m-\u001b[0m \u001b[0mbest_signal_ffilled\u001b[0m\u001b[0;34m[\u001b[0m\u001b[0;34m'price_cb_bids'\u001b[0m\u001b[0;34m]\u001b[0m\u001b[0;34m)\u001b[0m\u001b[0;34m.\u001b[0m\u001b[0mrolling\u001b[0m\u001b[0;34m(\u001b[0m\u001b[0mHOLDTIME\u001b[0m \u001b[0;34m+\u001b[0m \u001b[0mLAG\u001b[0m\u001b[0;34m,\u001b[0m \u001b[0mmin_periods\u001b[0m\u001b[0;34m=\u001b[0m\u001b[0;34m(\u001b[0m\u001b[0mHOLDTIME\u001b[0m\u001b[0;34m+\u001b[0m\u001b[0mLAG\u001b[0m\u001b[0;34m)\u001b[0m\u001b[0;34m)\u001b[0m\u001b[0;34m.\u001b[0m\u001b[0mapply\u001b[0m\u001b[0;34m(\u001b[0m\u001b[0mfind_first_peak\u001b[0m\u001b[0;34m)\u001b[0m\u001b[0;34m\u001b[0m\u001b[0;34m\u001b[0m\u001b[0m\n\u001b[1;32m     17\u001b[0m \u001b[0;31m#result_df['after_hold_first_high'] = best_signal_ffilled['price_kk_asks'].iloc[first_high_ind + AFTERPEAK_HOLD]\u001b[0m\u001b[0;34m\u001b[0m\u001b[0;34m\u001b[0m\u001b[0m\n\u001b[0;32m---> 18\u001b[0;31m \u001b[0mresult_df\u001b[0m\u001b[0;34m[\u001b[0m\u001b[0;34m'first_high'\u001b[0m\u001b[0;34m]\u001b[0m \u001b[0;34m=\u001b[0m \u001b[0mbest_signal_ffilled\u001b[0m\u001b[0;34m[\u001b[0m\u001b[0;34m'price_kk_asks'\u001b[0m\u001b[0;34m]\u001b[0m\u001b[0;34m.\u001b[0m\u001b[0miloc\u001b[0m\u001b[0;34m[\u001b[0m\u001b[0mfirst_high_ind\u001b[0m\u001b[0;34m]\u001b[0m\u001b[0;34m\u001b[0m\u001b[0;34m\u001b[0m\u001b[0m\n\u001b[0m\u001b[1;32m     19\u001b[0m \u001b[0mresult_df\u001b[0m \u001b[0;34m=\u001b[0m \u001b[0mresult_df\u001b[0m\u001b[0;34m.\u001b[0m\u001b[0mdropna\u001b[0m\u001b[0;34m(\u001b[0m\u001b[0;34m)\u001b[0m\u001b[0;34m\u001b[0m\u001b[0;34m\u001b[0m\u001b[0m\n",
            "\u001b[0;32m/usr/local/lib/python3.10/dist-packages/pandas/core/indexing.py\u001b[0m in \u001b[0;36m__getitem__\u001b[0;34m(self, key)\u001b[0m\n\u001b[1;32m   1189\u001b[0m             \u001b[0mmaybe_callable\u001b[0m \u001b[0;34m=\u001b[0m \u001b[0mcom\u001b[0m\u001b[0;34m.\u001b[0m\u001b[0mapply_if_callable\u001b[0m\u001b[0;34m(\u001b[0m\u001b[0mkey\u001b[0m\u001b[0;34m,\u001b[0m \u001b[0mself\u001b[0m\u001b[0;34m.\u001b[0m\u001b[0mobj\u001b[0m\u001b[0;34m)\u001b[0m\u001b[0;34m\u001b[0m\u001b[0;34m\u001b[0m\u001b[0m\n\u001b[1;32m   1190\u001b[0m             \u001b[0mmaybe_callable\u001b[0m \u001b[0;34m=\u001b[0m \u001b[0mself\u001b[0m\u001b[0;34m.\u001b[0m\u001b[0m_check_deprecated_callable_usage\u001b[0m\u001b[0;34m(\u001b[0m\u001b[0mkey\u001b[0m\u001b[0;34m,\u001b[0m \u001b[0mmaybe_callable\u001b[0m\u001b[0;34m)\u001b[0m\u001b[0;34m\u001b[0m\u001b[0;34m\u001b[0m\u001b[0m\n\u001b[0;32m-> 1191\u001b[0;31m             \u001b[0;32mreturn\u001b[0m \u001b[0mself\u001b[0m\u001b[0;34m.\u001b[0m\u001b[0m_getitem_axis\u001b[0m\u001b[0;34m(\u001b[0m\u001b[0mmaybe_callable\u001b[0m\u001b[0;34m,\u001b[0m \u001b[0maxis\u001b[0m\u001b[0;34m=\u001b[0m\u001b[0maxis\u001b[0m\u001b[0;34m)\u001b[0m\u001b[0;34m\u001b[0m\u001b[0;34m\u001b[0m\u001b[0m\n\u001b[0m\u001b[1;32m   1192\u001b[0m \u001b[0;34m\u001b[0m\u001b[0m\n\u001b[1;32m   1193\u001b[0m     \u001b[0;32mdef\u001b[0m \u001b[0m_is_scalar_access\u001b[0m\u001b[0;34m(\u001b[0m\u001b[0mself\u001b[0m\u001b[0;34m,\u001b[0m \u001b[0mkey\u001b[0m\u001b[0;34m:\u001b[0m \u001b[0mtuple\u001b[0m\u001b[0;34m)\u001b[0m\u001b[0;34m:\u001b[0m\u001b[0;34m\u001b[0m\u001b[0;34m\u001b[0m\u001b[0m\n",
            "\u001b[0;32m/usr/local/lib/python3.10/dist-packages/pandas/core/indexing.py\u001b[0m in \u001b[0;36m_getitem_axis\u001b[0;34m(self, key, axis)\u001b[0m\n\u001b[1;32m   1741\u001b[0m         \u001b[0;31m# a list of integers\u001b[0m\u001b[0;34m\u001b[0m\u001b[0;34m\u001b[0m\u001b[0m\n\u001b[1;32m   1742\u001b[0m         \u001b[0;32melif\u001b[0m \u001b[0mis_list_like_indexer\u001b[0m\u001b[0;34m(\u001b[0m\u001b[0mkey\u001b[0m\u001b[0;34m)\u001b[0m\u001b[0;34m:\u001b[0m\u001b[0;34m\u001b[0m\u001b[0;34m\u001b[0m\u001b[0m\n\u001b[0;32m-> 1743\u001b[0;31m             \u001b[0;32mreturn\u001b[0m \u001b[0mself\u001b[0m\u001b[0;34m.\u001b[0m\u001b[0m_get_list_axis\u001b[0m\u001b[0;34m(\u001b[0m\u001b[0mkey\u001b[0m\u001b[0;34m,\u001b[0m \u001b[0maxis\u001b[0m\u001b[0;34m=\u001b[0m\u001b[0maxis\u001b[0m\u001b[0;34m)\u001b[0m\u001b[0;34m\u001b[0m\u001b[0;34m\u001b[0m\u001b[0m\n\u001b[0m\u001b[1;32m   1744\u001b[0m \u001b[0;34m\u001b[0m\u001b[0m\n\u001b[1;32m   1745\u001b[0m         \u001b[0;31m# a single integer\u001b[0m\u001b[0;34m\u001b[0m\u001b[0;34m\u001b[0m\u001b[0m\n",
            "\u001b[0;32m/usr/local/lib/python3.10/dist-packages/pandas/core/indexing.py\u001b[0m in \u001b[0;36m_get_list_axis\u001b[0;34m(self, key, axis)\u001b[0m\n\u001b[1;32m   1715\u001b[0m         \u001b[0;32mexcept\u001b[0m \u001b[0mIndexError\u001b[0m \u001b[0;32mas\u001b[0m \u001b[0merr\u001b[0m\u001b[0;34m:\u001b[0m\u001b[0;34m\u001b[0m\u001b[0;34m\u001b[0m\u001b[0m\n\u001b[1;32m   1716\u001b[0m             \u001b[0;31m# re-raise with different error message, e.g. test_getitem_ndarray_3d\u001b[0m\u001b[0;34m\u001b[0m\u001b[0;34m\u001b[0m\u001b[0m\n\u001b[0;32m-> 1717\u001b[0;31m             \u001b[0;32mraise\u001b[0m \u001b[0mIndexError\u001b[0m\u001b[0;34m(\u001b[0m\u001b[0;34m\"positional indexers are out-of-bounds\"\u001b[0m\u001b[0;34m)\u001b[0m \u001b[0;32mfrom\u001b[0m \u001b[0merr\u001b[0m\u001b[0;34m\u001b[0m\u001b[0;34m\u001b[0m\u001b[0m\n\u001b[0m\u001b[1;32m   1718\u001b[0m \u001b[0;34m\u001b[0m\u001b[0m\n\u001b[1;32m   1719\u001b[0m     \u001b[0;32mdef\u001b[0m \u001b[0m_getitem_axis\u001b[0m\u001b[0;34m(\u001b[0m\u001b[0mself\u001b[0m\u001b[0;34m,\u001b[0m \u001b[0mkey\u001b[0m\u001b[0;34m,\u001b[0m \u001b[0maxis\u001b[0m\u001b[0;34m:\u001b[0m \u001b[0mAxisInt\u001b[0m\u001b[0;34m)\u001b[0m\u001b[0;34m:\u001b[0m\u001b[0;34m\u001b[0m\u001b[0;34m\u001b[0m\u001b[0m\n",
            "\u001b[0;31mIndexError\u001b[0m: positional indexers are out-of-bounds"
          ]
        }
      ],
      "source": [
        "HOLDTIME = 200 # ms\n",
        "AFTERPEAK_HOLD = 10 # ms\n",
        "LAG = 100 # 100 ms\n",
        "\n",
        "THRESHOLD = 0.005*1e8\n",
        "def find_first_peak(window):\n",
        "    # for i, value in enumerate(window):\n",
        "    #     if value > THRESHOLD:\n",
        "    #         return i\n",
        "    # return np.nan\n",
        "    return window[(window > THRESHOLD).idxmax()]\n",
        "\n",
        "result_df = pd.DataFrame()\n",
        "result_df['initial_price'] = best_signal_ffilled['price_cb_bids'].iloc[:-(HOLDTIME+LAG)]\n",
        "result_df['peak_price'] = best_signal_ffilled['price_kk_asks'].rolling(HOLDTIME + LAG, min_periods=(HOLDTIME+LAG)).max()\n",
        "first_high_ind = (best_signal_ffilled['price_kk_asks'] - best_signal_ffilled['price_cb_bids']).rolling(HOLDTIME + LAG, min_periods=(HOLDTIME+LAG)).apply(find_first_peak)\n",
        "#result_df['after_hold_first_high'] = best_signal_ffilled['price_kk_asks'].iloc[first_high_ind + AFTERPEAK_HOLD]\n",
        "#result_df['first_high'] = best_signal_ffilled['price_kk_asks'].iloc[first_high_ind]\n",
        "#result_df = result_df.dropna()\n",
        "first_high_ind\n"
      ]
    },
    {
      "cell_type": "code",
      "source": [
        "np.sort(first_high_ind.dropna().unique())"
      ],
      "metadata": {
        "id": "HhPCdVf2U8fW",
        "outputId": "1dad62f7-d0db-4226-9b9a-5cd8a1765ec8",
        "colab": {
          "base_uri": "https://localhost:8080/"
        }
      },
      "execution_count": 45,
      "outputs": [
        {
          "output_type": "execute_result",
          "data": {
            "text/plain": [
              "array([-1.0000000e+04,  0.0000000e+00,  1.0000000e+04,  2.0000000e+04,\n",
              "        3.0000000e+04,  4.0000000e+04,  5.0000000e+04,  6.0000000e+04,\n",
              "        7.0000000e+04,  8.0000000e+04,  9.0000000e+04,  1.0000000e+05,\n",
              "        1.1000000e+05,  1.2000000e+05,  1.3000000e+05,  1.4000000e+05,\n",
              "        1.5000000e+05,  1.6000000e+05,  1.7000000e+05,  1.8000000e+05,\n",
              "        1.9000000e+05,  2.0000000e+05,  2.1000000e+05,  2.2000000e+05,\n",
              "        2.3000000e+05,  2.4000000e+05,  2.5000000e+05,  2.6000000e+05,\n",
              "        2.7000000e+05,  2.8000000e+05,  2.9000000e+05,  3.0000000e+05,\n",
              "        3.1000000e+05,  3.2000000e+05,  3.3000000e+05,  3.4000000e+05,\n",
              "        3.5000000e+05,  3.6000000e+05,  3.7000000e+05,  3.8000000e+05,\n",
              "        3.9000000e+05,  4.0000000e+05,  4.1000000e+05,  4.2000000e+05,\n",
              "        4.3000000e+05,  4.4000000e+05,  4.5000000e+05,  4.6000000e+05,\n",
              "        4.7000000e+05,  4.8000000e+05,  4.9000000e+05,  5.0000000e+05,\n",
              "        5.1000000e+05,  5.2000000e+05,  5.3000000e+05,  5.4000000e+05,\n",
              "        5.5000000e+05,  5.6000000e+05,  5.7000000e+05,  5.8000000e+05,\n",
              "        5.9000000e+05,  6.0000000e+05,  6.1000000e+05,  6.2000000e+05,\n",
              "        6.3000000e+05,  6.4000000e+05,  6.5000000e+05,  6.6000000e+05,\n",
              "        6.7000000e+05,  6.8000000e+05,  6.9000000e+05,  7.0000000e+05,\n",
              "        7.1000000e+05,  7.2000000e+05,  7.3000000e+05,  7.4000000e+05,\n",
              "        7.5000000e+05,  7.6000000e+05,  7.7000000e+05,  7.8000000e+05,\n",
              "        7.9000000e+05,  8.0000000e+05,  8.1000000e+05,  8.2000000e+05,\n",
              "        8.3000000e+05,  8.4000000e+05,  8.5000000e+05,  8.6000000e+05,\n",
              "        8.7000000e+05,  8.8000000e+05,  8.9000000e+05,  9.0000000e+05,\n",
              "        9.1000000e+05,  9.2000000e+05,  9.3000000e+05,  9.4000000e+05,\n",
              "        9.5000000e+05,  9.6000000e+05,  9.7000000e+05,  9.8000000e+05,\n",
              "        9.9000000e+05,  1.0000000e+06,  1.0100000e+06,  1.0200000e+06,\n",
              "        1.0300000e+06,  1.0400000e+06,  1.0500000e+06,  1.0600000e+06,\n",
              "        1.0700000e+06,  1.0800000e+06,  1.0900000e+06,  1.1000000e+06,\n",
              "        1.1100000e+06,  1.1200000e+06,  1.1300000e+06,  1.1400000e+06,\n",
              "        1.1500000e+06,  1.1600000e+06,  1.1700000e+06,  1.1800000e+06,\n",
              "        1.1900000e+06,  1.2000000e+06,  1.2100000e+06,  1.2200000e+06,\n",
              "        1.2300000e+06,  1.2400000e+06,  1.2500000e+06,  1.2600000e+06,\n",
              "        1.2700000e+06,  1.2800000e+06,  1.2900000e+06,  1.2999990e+06,\n",
              "        1.3000000e+06,  1.3100000e+06,  1.3199990e+06,  1.3200000e+06,\n",
              "        1.3300000e+06,  1.3399990e+06,  1.3400000e+06,  1.3500000e+06,\n",
              "        1.3600000e+06,  1.3700000e+06,  1.3800000e+06,  1.3900000e+06,\n",
              "        1.4000000e+06,  1.4100000e+06,  1.4200000e+06,  1.4300000e+06,\n",
              "        1.4400000e+06,  1.4500000e+06,  1.4600000e+06,  1.4700000e+06,\n",
              "        1.4800000e+06,  1.4900000e+06,  1.5000000e+06,  1.5100000e+06,\n",
              "        1.5200000e+06,  1.5300000e+06,  1.5400000e+06,  1.5500000e+06,\n",
              "        1.5600000e+06,  1.5700000e+06,  1.5800000e+06,  1.5900000e+06,\n",
              "        1.6000000e+06,  1.6100000e+06,  1.6200000e+06,  1.6300000e+06,\n",
              "        1.6400000e+06,  1.6500000e+06,  1.6600000e+06,  1.6700000e+06,\n",
              "        1.6800000e+06,  1.6900000e+06,  1.7000000e+06,  1.7100000e+06,\n",
              "        1.7199990e+06,  1.7200000e+06,  1.7300000e+06,  1.7400000e+06,\n",
              "        1.7499990e+06,  1.7500000e+06,  1.7600000e+06,  1.7700000e+06,\n",
              "        1.7799990e+06,  1.7800000e+06,  1.7900000e+06,  1.8000000e+06,\n",
              "        1.8100000e+06,  1.8200000e+06,  1.8300000e+06,  1.8399990e+06,\n",
              "        1.8500000e+06,  1.8600000e+06,  1.8700000e+06,  1.8799990e+06,\n",
              "        1.8800000e+06,  1.8900000e+06,  1.9000000e+06,  1.9100000e+06,\n",
              "        1.9200000e+06,  1.9299990e+06,  1.9300000e+06,  1.9400000e+06,\n",
              "        1.9499990e+06,  1.9500000e+06,  1.9600000e+06,  1.9699990e+06,\n",
              "        1.9700000e+06,  1.9800000e+06,  1.9900000e+06,  2.0000000e+06,\n",
              "        2.0100000e+06,  2.0200000e+06,  2.0299990e+06,  2.0300000e+06,\n",
              "        2.0399990e+06,  2.0400000e+06,  2.0500000e+06,  2.0600000e+06,\n",
              "        2.0700000e+06,  2.0799990e+06,  2.0900000e+06,  2.1000000e+06,\n",
              "        2.1100000e+06,  2.1200000e+06,  2.1300000e+06,  2.1399990e+06,\n",
              "        2.1400000e+06,  2.1500000e+06,  2.1600000e+06,  2.1700000e+06,\n",
              "        2.1800000e+06,  2.1900000e+06,  2.2099990e+06,  2.2100000e+06,\n",
              "        2.2199990e+06,  2.2200000e+06,  2.2300000e+06,  2.2400000e+06,\n",
              "        2.2500000e+06,  2.2600000e+06,  2.2700000e+06,  2.2800000e+06,\n",
              "        2.2900000e+06,  2.3000000e+06,  2.3100000e+06,  2.3199990e+06,\n",
              "        2.3200000e+06,  2.3299990e+06,  2.3300000e+06,  2.3399990e+06,\n",
              "        2.3500000e+06,  2.3599990e+06,  2.3600000e+06,  2.3699990e+06,\n",
              "        2.3700000e+06,  2.3800000e+06,  2.3900000e+06,  2.4000000e+06,\n",
              "        2.4100000e+06,  2.4199990e+06,  2.4300000e+06,  2.4400000e+06,\n",
              "        2.4499990e+06,  2.4500000e+06,  2.4600000e+06,  2.4700000e+06,\n",
              "        2.4800000e+06,  2.4900000e+06,  2.5000000e+06,  2.5100000e+06,\n",
              "        2.5199990e+06,  2.5200000e+06,  2.5300000e+06,  2.5400000e+06,\n",
              "        2.5500000e+06,  2.5600000e+06,  2.5699990e+06,  2.5700000e+06,\n",
              "        2.5799990e+06,  2.5800000e+06,  2.5900000e+06,  2.5999990e+06,\n",
              "        2.6100000e+06,  2.6200000e+06,  2.6300000e+06,  2.6400000e+06,\n",
              "        2.6500000e+06,  2.6600000e+06,  2.6700000e+06,  2.6900000e+06,\n",
              "        2.7000000e+06,  2.7100000e+06,  2.7200000e+06,  2.7399990e+06,\n",
              "        2.7400000e+06,  2.7500000e+06,  2.7599990e+06,  2.7600000e+06,\n",
              "        2.7699990e+06,  2.7700000e+06,  2.7800000e+06,  2.7900000e+06,\n",
              "        2.8000000e+06,  2.8100000e+06,  2.8200000e+06,  2.8300000e+06,\n",
              "        2.8400000e+06,  2.8499990e+06,  2.8500000e+06,  2.8600000e+06,\n",
              "        2.8700000e+06,  2.8800000e+06,  2.8900000e+06,  2.9000000e+06,\n",
              "        2.9100000e+06,  2.9200000e+06,  2.9300000e+06,  2.9399990e+06,\n",
              "        2.9400000e+06,  2.9499990e+06,  2.9500000e+06,  2.9599990e+06,\n",
              "        2.9600000e+06,  2.9700000e+06,  2.9799990e+06,  2.9800000e+06,\n",
              "        3.0000000e+06,  3.0099990e+06,  3.0199990e+06,  3.0200000e+06,\n",
              "        3.0299990e+06,  3.0300000e+06,  3.0400000e+06,  3.0500000e+06,\n",
              "        3.0600000e+06,  3.0700000e+06,  3.0800000e+06,  3.0899990e+06,\n",
              "        3.0900000e+06,  3.0999990e+06,  3.1099990e+06,  3.1100000e+06,\n",
              "        3.1199990e+06,  3.1200000e+06,  3.1299990e+06,  3.1300000e+06,\n",
              "        3.1399990e+06,  3.1400000e+06,  3.1500000e+06,  3.1599990e+06,\n",
              "        3.1600000e+06,  3.1699990e+06,  3.1700000e+06,  3.1799990e+06,\n",
              "        3.1900000e+06,  3.1999990e+06,  3.2000000e+06,  3.2099990e+06,\n",
              "        3.2199990e+06,  3.2200000e+06,  3.2300000e+06,  3.2399990e+06,\n",
              "        3.2499990e+06,  3.2500000e+06,  3.2599990e+06,  3.2600000e+06,\n",
              "        3.2699990e+06,  3.2700000e+06,  3.2799990e+06,  3.2800000e+06,\n",
              "        3.2900000e+06,  3.2999990e+06,  3.3099990e+06,  3.3100000e+06,\n",
              "        3.3199990e+06,  3.3200000e+06,  3.3299990e+06,  3.3300000e+06,\n",
              "        3.3399990e+06,  3.3400000e+06,  3.3500000e+06,  3.3599990e+06,\n",
              "        3.3600000e+06,  3.3700000e+06,  3.3799990e+06,  3.3800000e+06,\n",
              "        3.3900000e+06,  3.3999990e+06,  3.4000000e+06,  3.4099990e+06,\n",
              "        3.4100000e+06,  3.4199990e+06,  3.4200000e+06,  3.4299990e+06,\n",
              "        3.4300000e+06,  3.4399990e+06,  3.4400000e+06,  3.4499990e+06,\n",
              "        3.4500000e+06,  3.4599990e+06,  3.4600000e+06,  3.4699990e+06,\n",
              "        3.4700000e+06,  3.4800000e+06,  3.4900000e+06,  3.4999990e+06,\n",
              "        3.5000000e+06,  3.5099990e+06,  3.5100000e+06,  3.5199990e+06,\n",
              "        3.5200000e+06,  3.5299990e+06,  3.5300000e+06,  3.5399990e+06,\n",
              "        3.5400000e+06,  3.5499990e+06,  3.5500000e+06,  3.5599990e+06,\n",
              "        3.5600000e+06,  3.5700000e+06,  3.5799990e+06,  3.5800000e+06,\n",
              "        3.5900000e+06,  3.6000000e+06,  3.6100000e+06,  3.6199990e+06,\n",
              "        3.6200000e+06,  3.6299990e+06,  3.6300000e+06,  3.6400000e+06,\n",
              "        3.6500000e+06,  3.6599990e+06,  3.6600000e+06,  3.6699990e+06,\n",
              "        3.6700000e+06,  3.6799990e+06,  3.6800000e+06,  3.6899990e+06,\n",
              "        3.6900000e+06,  3.6999990e+06,  3.7000000e+06,  3.7099990e+06,\n",
              "        3.7100000e+06,  3.7199990e+06,  3.7200000e+06,  3.7300000e+06,\n",
              "        3.7400000e+06,  3.7500000e+06,  3.7599990e+06,  3.7600000e+06,\n",
              "        3.7699990e+06,  3.7700000e+06,  3.7799990e+06,  3.7800000e+06,\n",
              "        3.7900000e+06,  3.8000000e+06,  3.8100000e+06,  3.8199990e+06,\n",
              "        3.8200000e+06,  3.8299990e+06,  3.8300000e+06,  3.8399990e+06,\n",
              "        3.8400000e+06,  3.8499990e+06,  3.8500000e+06,  3.8600000e+06,\n",
              "        3.8700000e+06,  3.8799990e+06,  3.8800000e+06,  3.8900000e+06,\n",
              "        3.8999990e+06,  3.9000000e+06,  3.9100000e+06,  3.9200000e+06,\n",
              "        3.9299990e+06,  3.9300000e+06,  3.9399990e+06,  3.9400000e+06,\n",
              "        3.9499990e+06,  3.9500000e+06,  3.9599990e+06,  3.9600000e+06,\n",
              "        3.9699990e+06,  3.9700000e+06,  3.9799990e+06,  3.9800000e+06,\n",
              "        3.9899990e+06,  3.9900000e+06,  3.9999990e+06,  4.0000000e+06,\n",
              "        4.0100000e+06,  4.0200000e+06,  4.0300000e+06,  4.0400000e+06,\n",
              "        4.0499990e+06,  4.0500000e+06,  4.0599990e+06,  4.0600000e+06,\n",
              "        4.0700000e+06,  4.0800000e+06,  4.0900000e+06,  4.1000000e+06,\n",
              "        4.1100000e+06,  4.1200000e+06,  4.1300000e+06,  4.1399990e+06,\n",
              "        4.1400000e+06,  4.1499990e+06,  4.1500000e+06,  4.1599990e+06,\n",
              "        4.1600000e+06,  4.1699990e+06,  4.1700000e+06,  4.1800000e+06,\n",
              "        4.1900000e+06,  4.2000000e+06,  4.2100000e+06,  4.2200000e+06,\n",
              "        4.2300000e+06,  4.2400000e+06,  4.2500000e+06,  4.2600000e+06,\n",
              "        4.2700000e+06,  4.2800000e+06,  4.2899990e+06,  4.2900000e+06,\n",
              "        4.2999990e+06,  4.3000000e+06,  4.3100000e+06,  4.3200000e+06,\n",
              "        4.3400000e+06,  4.3500000e+06,  4.3599990e+06,  4.3600000e+06,\n",
              "        4.3700000e+06,  4.3799990e+06,  4.3800000e+06,  4.3900000e+06,\n",
              "        4.4000000e+06,  4.4100000e+06,  4.4199990e+06,  4.4200000e+06,\n",
              "        4.4300000e+06,  4.4400000e+06,  4.4500000e+06,  4.4600000e+06,\n",
              "        4.4700000e+06,  4.4799990e+06,  4.4800000e+06,  4.4900000e+06,\n",
              "        4.4999990e+06,  4.5000000e+06,  4.5099990e+06,  4.5100000e+06,\n",
              "        4.5199990e+06,  4.5200000e+06,  4.5300000e+06,  4.5400000e+06,\n",
              "        4.5499990e+06,  4.5500000e+06,  4.5600000e+06,  4.5699990e+06,\n",
              "        4.5700000e+06,  4.5799990e+06,  4.5800000e+06,  4.5899990e+06,\n",
              "        4.5900000e+06,  4.5999990e+06,  4.6000000e+06,  4.6100000e+06,\n",
              "        4.6199990e+06,  4.6200000e+06,  4.6299990e+06,  4.6300000e+06,\n",
              "        4.6400000e+06,  4.6500000e+06,  4.6599990e+06,  4.6600000e+06,\n",
              "        4.6700000e+06,  4.6799990e+06,  4.6800000e+06,  4.6899990e+06,\n",
              "        4.6900000e+06,  4.7000000e+06,  4.7099990e+06,  4.7100000e+06,\n",
              "        4.7199990e+06,  4.7200000e+06,  4.7299990e+06,  4.7300000e+06,\n",
              "        4.7399990e+06,  4.7400000e+06,  4.7499990e+06,  4.7500000e+06,\n",
              "        4.7600000e+06,  4.7699990e+06,  4.7700000e+06,  4.7800000e+06,\n",
              "        4.7900000e+06,  4.8000000e+06,  4.8100000e+06,  4.8200000e+06,\n",
              "        4.8300000e+06,  4.8400000e+06,  4.8500000e+06,  4.8599990e+06,\n",
              "        4.8600000e+06,  4.8699990e+06,  4.8700000e+06,  4.8799990e+06,\n",
              "        4.8800000e+06,  4.8900000e+06,  4.9300000e+06,  4.9400000e+06,\n",
              "        4.9500000e+06,  4.9699990e+06,  4.9700000e+06,  4.9799990e+06,\n",
              "        4.9800000e+06,  4.9900000e+06,  5.0000000e+06,  5.0100000e+06,\n",
              "        5.0500000e+06,  5.0600000e+06,  5.0700000e+06,  5.0900000e+06,\n",
              "        5.1000000e+06,  5.1100000e+06,  5.1300000e+06,  5.1400000e+06,\n",
              "        5.1600000e+06,  5.1700000e+06,  5.1800000e+06,  5.1900000e+06,\n",
              "        5.2000000e+06,  5.2300000e+06,  5.2400000e+06,  5.2500000e+06,\n",
              "        5.2600000e+06,  5.2700000e+06,  5.2900000e+06,  5.3000000e+06,\n",
              "        5.3300000e+06,  5.3800000e+06,  5.4100000e+06,  5.4400000e+06,\n",
              "        5.4500000e+06,  5.4600000e+06,  5.4700000e+06,  5.4800000e+06,\n",
              "        5.4900000e+06,  5.5300000e+06,  5.5900000e+06,  5.6100000e+06,\n",
              "        5.6899990e+06,  5.7400000e+06,  5.7599990e+06,  5.7700000e+06,\n",
              "        5.7799990e+06,  5.7800000e+06,  5.8099990e+06,  5.8199990e+06,\n",
              "        5.8299990e+06,  5.8399990e+06,  5.8600000e+06,  5.9300000e+06,\n",
              "        5.9500000e+06,  5.9600000e+06,  5.9700000e+06,  5.9899990e+06,\n",
              "        5.9999990e+06,  6.0000000e+06,  6.0100000e+06,  6.0299990e+06,\n",
              "        6.0300000e+06,  6.0499990e+06,  6.0599990e+06,  6.0799990e+06,\n",
              "        6.1299990e+06,  6.1399990e+06,  6.1699990e+06,  6.1999990e+06,\n",
              "        6.2400000e+06,  6.3199990e+06,  6.3399990e+06,  6.3599990e+06,\n",
              "        6.3699990e+06,  6.3700000e+06,  6.3799990e+06,  6.4900000e+06,\n",
              "        6.5500000e+06,  6.5899990e+06,  6.6000000e+06,  6.6299990e+06,\n",
              "        6.6799990e+06,  6.8200000e+06,  6.8699990e+06,  6.9300000e+06,\n",
              "        6.9400000e+06,  6.9500000e+06,  6.9599990e+06,  6.9700000e+06,\n",
              "        7.0199990e+06,  7.0300000e+06,  7.0399990e+06,  7.1899990e+06,\n",
              "        7.2299990e+06,  7.2399990e+06,  7.5000000e+06,  7.7000000e+06,\n",
              "        7.8100000e+06,  7.8400000e+06,  8.0500000e+06,  8.3499990e+06,\n",
              "        9.2100000e+06,  9.4100000e+06,  1.0169999e+07,  1.0730000e+07,\n",
              "        1.0839999e+07,  1.0900000e+07,  1.1020000e+07,  1.1169999e+07,\n",
              "        1.1350000e+07,  1.1530000e+07,  1.1860000e+07,  1.2390000e+07,\n",
              "        1.2470000e+07,  1.2520000e+07,  1.2549999e+07,  1.3200000e+07,\n",
              "        1.3210000e+07,  1.3220000e+07,  1.4160000e+07,  1.4280000e+07,\n",
              "        1.4329999e+07,  1.4350000e+07,  1.6340000e+07,  1.8560000e+07,\n",
              "        1.8830000e+07,  1.8850000e+07,  1.8880000e+07,  1.8920000e+07,\n",
              "        1.8930000e+07,  1.8940000e+07,  1.8950000e+07,  1.8960000e+07,\n",
              "        1.8970000e+07,  1.8980000e+07,  1.8990000e+07,  1.9000000e+07,\n",
              "        1.9010000e+07,  1.9020000e+07,  1.9030000e+07,  1.9040000e+07,\n",
              "        1.9050000e+07,  1.9060000e+07,  1.9070000e+07,  1.9080000e+07,\n",
              "        1.9090000e+07,  1.9100000e+07,  1.9110000e+07,  1.9120000e+07,\n",
              "        1.9130000e+07,  1.9140000e+07,  1.9150000e+07,  1.9160000e+07,\n",
              "        1.9170000e+07,  1.9180000e+07,  1.9190000e+07,  1.9200000e+07,\n",
              "        1.9210000e+07,  1.9220000e+07,  1.9230000e+07,  1.9240000e+07,\n",
              "        1.9250000e+07,  1.9260000e+07,  1.9270000e+07,  1.9280000e+07,\n",
              "        1.9290000e+07,  1.9300000e+07,  1.9310000e+07,  1.9320000e+07,\n",
              "        1.9330000e+07,  1.9340000e+07,  1.9350000e+07,  1.9360000e+07,\n",
              "        1.9370000e+07,  1.9380000e+07,  1.9390000e+07,  1.9400000e+07,\n",
              "        1.9410000e+07,  1.9420000e+07,  1.9430000e+07,  1.9440000e+07,\n",
              "        1.9450000e+07,  1.9460000e+07,  1.9470000e+07,  1.9480000e+07,\n",
              "        1.9490000e+07,  1.9500000e+07,  1.9510000e+07,  1.9520000e+07,\n",
              "        1.9530000e+07,  1.9540000e+07,  1.9550000e+07,  1.9560000e+07,\n",
              "        1.9570000e+07,  1.9580000e+07,  1.9590000e+07,  1.9600000e+07,\n",
              "        1.9610000e+07,  1.9620000e+07,  1.9630000e+07,  1.9640000e+07,\n",
              "        1.9650000e+07,  1.9660000e+07,  1.9670000e+07,  1.9680000e+07,\n",
              "        1.9690000e+07,  1.9700000e+07,  1.9710000e+07,  1.9720000e+07,\n",
              "        1.9730000e+07,  1.9740000e+07,  1.9750000e+07,  1.9760000e+07,\n",
              "        1.9770000e+07,  1.9780000e+07,  1.9790000e+07,  1.9800000e+07,\n",
              "        1.9810000e+07,  1.9820000e+07,  1.9830000e+07,  1.9840000e+07,\n",
              "        1.9850000e+07,  1.9860000e+07,  1.9870000e+07,  1.9880000e+07,\n",
              "        1.9890000e+07,  1.9900000e+07,  1.9910000e+07,  1.9920000e+07,\n",
              "        1.9930000e+07,  1.9940000e+07,  1.9950000e+07,  1.9960000e+07,\n",
              "        1.9970000e+07,  1.9980000e+07,  1.9990000e+07,  2.0000000e+07,\n",
              "        2.0010000e+07,  2.0020000e+07,  2.0030000e+07,  2.0040000e+07,\n",
              "        2.0050000e+07,  2.0060000e+07,  2.0070000e+07,  2.0080000e+07,\n",
              "        2.0090000e+07,  2.0100000e+07,  2.0110000e+07,  2.0120000e+07,\n",
              "        2.0130000e+07,  2.0140000e+07,  2.0150000e+07,  2.0160000e+07,\n",
              "        2.0170000e+07,  2.0180000e+07,  2.0190000e+07,  2.0200000e+07,\n",
              "        2.0210000e+07,  2.0220000e+07,  2.0230000e+07,  2.0240000e+07,\n",
              "        2.0250000e+07,  2.0260000e+07,  2.0270000e+07,  2.0280000e+07,\n",
              "        2.0290000e+07,  2.0300000e+07,  2.0310000e+07,  2.0320000e+07,\n",
              "        2.0330000e+07,  2.0340000e+07,  2.0350000e+07,  2.0360000e+07,\n",
              "        2.0370000e+07,  2.0380000e+07,  2.0390000e+07,  2.0400000e+07,\n",
              "        2.0410000e+07,  2.0420000e+07,  2.0430000e+07,  2.0440000e+07,\n",
              "        2.0450000e+07,  2.0460000e+07,  2.0470000e+07,  2.0480000e+07,\n",
              "        2.0490000e+07,  2.0500000e+07,  2.0510000e+07,  2.0520000e+07,\n",
              "        2.0530000e+07,  2.0540000e+07,  2.0550000e+07,  2.0560000e+07,\n",
              "        2.0570000e+07,  2.0580000e+07,  2.0590000e+07,  2.0600000e+07,\n",
              "        2.0610000e+07,  2.0620000e+07,  2.0630000e+07,  2.0640000e+07,\n",
              "        2.0650000e+07,  2.0660000e+07,  2.0670000e+07,  2.0680000e+07,\n",
              "        2.0690000e+07,  2.0700000e+07,  2.0710000e+07,  2.0720000e+07,\n",
              "        2.0730000e+07,  2.0740000e+07,  2.0750000e+07,  2.0760000e+07,\n",
              "        2.0770000e+07,  2.0780000e+07,  2.0790000e+07,  2.0800000e+07,\n",
              "        2.0810000e+07,  2.0820000e+07,  2.0830000e+07,  2.0840000e+07,\n",
              "        2.0850000e+07,  2.0860000e+07,  2.0870000e+07,  2.0880000e+07,\n",
              "        2.0890000e+07,  2.0900000e+07,  2.0910000e+07,  2.0920000e+07,\n",
              "        2.0930000e+07,  2.0940000e+07,  2.0950000e+07,  2.0960000e+07,\n",
              "        2.0970000e+07,  2.0980000e+07,  2.0990000e+07,  2.1000000e+07,\n",
              "        2.1010000e+07,  2.1020000e+07,  2.1030000e+07,  2.1040000e+07,\n",
              "        2.1050000e+07,  2.1060000e+07,  2.1080000e+07,  2.1100000e+07,\n",
              "        2.1110000e+07,  2.1120000e+07,  2.1130000e+07,  2.1140000e+07,\n",
              "        2.1150000e+07,  2.1160000e+07,  2.1170000e+07,  2.1180000e+07,\n",
              "        2.1190000e+07,  2.1200000e+07,  2.1210000e+07,  2.1220000e+07,\n",
              "        2.1230000e+07,  2.1240000e+07,  2.1250000e+07,  2.1260000e+07,\n",
              "        2.1270000e+07,  2.1280000e+07,  2.1290000e+07,  2.1300000e+07,\n",
              "        2.1310000e+07,  2.1320000e+07,  2.1330000e+07,  2.1340000e+07,\n",
              "        2.1350000e+07,  2.1360000e+07,  2.1370000e+07,  2.1380000e+07,\n",
              "        2.1390000e+07,  2.1400000e+07,  2.1450000e+07,  2.1470000e+07,\n",
              "        2.1520000e+07,  2.1530000e+07,  2.1750000e+07,  2.1850000e+07,\n",
              "        3.2780000e+07,  3.2800000e+07])"
            ]
          },
          "metadata": {},
          "execution_count": 45
        }
      ]
    },
    {
      "cell_type": "code",
      "source": [
        "result_df['final_price'] = best_signal_ffilled['price_kk_asks'].iloc[HOLDTIME+LAG:]\n",
        "result_df['trade_success'] = result_df['after_hold_first_high'] > (result_df['initial_price'] + THRESHOLD)\n",
        "\n",
        "result_df['sale_price'] = result_df.apply(lambda row: row['first_high'] if row['trade_success'] else row['final_price'], axis=1)\n",
        "result_df['profit'] = result_df['sale_price'] - result_df['initial_price']\n",
        "\n"
      ],
      "metadata": {
        "id": "OU5VMxcp_2NL"
      },
      "execution_count": null,
      "outputs": []
    },
    {
      "cell_type": "code",
      "source": [
        "total_profit = result_df['profit'][peaks.index].sum()\n",
        "win_ratio = result_df['trade_success'][peaks.index].sum() / len(peaks.index)\n",
        "\n",
        "sharpe = result_df['return'].mean() / result_df['return'].std()\n",
        "\n",
        "(total_profit, win_ratio, sharpe)"
      ],
      "metadata": {
        "id": "YJT20SLXEP4n"
      },
      "execution_count": null,
      "outputs": []
    },
    {
      "cell_type": "code",
      "source": [],
      "metadata": {
        "id": "p2bDbdIgDD2L"
      },
      "execution_count": 17,
      "outputs": []
    },
    {
      "cell_type": "markdown",
      "metadata": {
        "id": "VFz13-V3kS0n"
      },
      "source": [
        "Make the following two cells into a method with parameters `HOLDTIME` and"
      ]
    },
    {
      "cell_type": "code",
      "execution_count": null,
      "metadata": {
        "id": "LM9Y7qCykS0n"
      },
      "outputs": [],
      "source": [
        "from matplotlib import pyplot as plt\n",
        "plt.plot(best_signal_ffilled['price_cb_asks'])\n",
        "plt.plot(best_signal_ffilled['price_cb_bids'])\n",
        "plt.ylim(0,1)"
      ]
    },
    {
      "cell_type": "code",
      "execution_count": null,
      "metadata": {
        "id": "gfO5j_fJkS0n"
      },
      "outputs": [],
      "source": [
        "# plot ask lag\n",
        "import plotly.graph_objects as go\n",
        "fig = go.Figure()\n",
        "fig.add_trace(go.Scatter(x=best_signal_ffilled['timestamp'], y=best_signal_ffilled['price_' + \"cb\" + \"_asks\"]/SCALE, mode='lines', name='Coinbase'))\n",
        "fig.add_trace(go.Scatter(x=best_signal_ffilled['timestamp'], y=best_signal_ffilled['price_' + \"kk\" + \"_asks\"]/SCALE, mode='lines', name='Kraken'))\n",
        "fig.show()"
      ]
    },
    {
      "cell_type": "code",
      "execution_count": null,
      "metadata": {
        "id": "DXFFWfQEkS0n"
      },
      "outputs": [],
      "source": [
        "# plot bids\n",
        "import plotly.graph_objects as go\n",
        "fig = go.Figure()\n",
        "fig.add_trace(go.Scatter(x=best_signal_ffilled['timestamp'], y=best_signal_ffilled['price_' + \"cb\" + \"_bids\"]/SCALE, mode='lines', name='Coinbase'))\n",
        "fig.add_trace(go.Scatter(x=best_signal_ffilled['timestamp'], y=best_signal_ffilled['price_' + \"kk\" + \"_bids\"]/SCALE, mode='lines', name='Kraken'))\n",
        "fig.show()"
      ]
    },
    {
      "cell_type": "code",
      "execution_count": null,
      "metadata": {
        "id": "apv2WGNxkS0n"
      },
      "outputs": [],
      "source": [
        "\n",
        "import plotly.graph_objects as go\n",
        "fig = go.Figure()\n",
        "fig.add_trace(go.Scatter(x=midpt_signal['timestamp'], y=midpt_signal['midpt_' + \"cb\"]/SCALE, mode='lines', name='Coinbase'))\n",
        "fig.add_trace(go.Scatter(x=midpt_signal['timestamp'], y=midpt_signal['midpt_' + \"kk\"]/SCALE, mode='lines', name='Kraken'))\n",
        "fig.show()"
      ]
    },
    {
      "cell_type": "code",
      "execution_count": null,
      "metadata": {
        "id": "Gog1jWgzkS0o"
      },
      "outputs": [],
      "source": [
        "def max_delayed_crosscorrelation(s1, s2):\n",
        "    correlation = signal.correlate(s1, s2, mode='full', method='auto')\n",
        "\n",
        "    max_corr_index = np.argmax(correlation)\n",
        "    max_corr_value = correlation[max_corr_index]\n",
        "\n",
        "    delay = max_corr_index - (len(s1) - 1)\n",
        "\n",
        "    return max_corr_value, delay"
      ]
    },
    {
      "cell_type": "code",
      "execution_count": null,
      "metadata": {
        "id": "lbeNzWm3kS0o"
      },
      "outputs": [],
      "source": [
        "print('asks', max_delayed_crosscorrelation(best_signal_ffilled['price_cb_asks'], best_signal_ffilled['price_kk_asks']))\n",
        "print('bids', max_delayed_crosscorrelation(best_signal_ffilled['price_cb_bids'], best_signal_ffilled['price_kk_bids']))\n",
        "print('midpt', max_delayed_crosscorrelation(midpt_signal['midpt_cb'], midpt_signal['midpt_kk']))"
      ]
    }
  ],
  "metadata": {
    "kernelspec": {
      "display_name": "Python 3",
      "language": "python",
      "name": "python3"
    },
    "language_info": {
      "codemirror_mode": {
        "name": "ipython",
        "version": 3
      },
      "file_extension": ".py",
      "mimetype": "text/x-python",
      "name": "python",
      "nbconvert_exporter": "python",
      "pygments_lexer": "ipython3",
      "version": "3.10.12"
    },
    "colab": {
      "provenance": [],
      "include_colab_link": true
    }
  },
  "nbformat": 4,
  "nbformat_minor": 0
}